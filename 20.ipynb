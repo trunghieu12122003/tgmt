{
 "cells": [
  {
   "cell_type": "code",
   "execution_count": 22,
   "id": "354ec04a-b1e7-4d3b-8336-83e4430d8aa4",
   "metadata": {},
   "outputs": [],
   "source": [
    "import cv2\n",
    "import numpy as np"
   ]
  },
  {
   "cell_type": "code",
   "execution_count": 24,
   "id": "eeac1d5d-3ac4-427c-8d61-e830c373c8e3",
   "metadata": {},
   "outputs": [],
   "source": [
    "def display(title, img ): \n",
    "    cv2.imshow(title, img)\n",
    "    cv2.waitKey(0)\n",
    "    cv2.destroyWindow(title)"
   ]
  },
  {
   "cell_type": "code",
   "execution_count": 26,
   "id": "c3476d6b-b91b-4e82-bc22-c00cf874efd8",
   "metadata": {},
   "outputs": [],
   "source": [
    "# Tạo một ảnh\n",
    "img = np.zeros((400,400,3),dtype=np.uint8)\n",
    "display('Image', img)"
   ]
  },
  {
   "cell_type": "code",
   "execution_count": 28,
   "id": "47ceb83e-b0f7-4114-8150-f910dfdcbf55",
   "metadata": {},
   "outputs": [],
   "source": [
    "# Vẽ đường thẳng\n",
    "cv2.line(img, (50, 50) , (350, 50), (0,0,255), 2)\n",
    "display('Image', img)"
   ]
  },
  {
   "cell_type": "code",
   "execution_count": 30,
   "id": "91f57b44-38d1-4f0d-9190-a9abc05f83ce",
   "metadata": {},
   "outputs": [],
   "source": [
    "# Vẽ hình tròn\n",
    "cv2.circle(img, (100,100), 50, (0, 255, 0), -1)\n",
    "display('Image', img)"
   ]
  },
  {
   "cell_type": "code",
   "execution_count": 32,
   "id": "0760dabe-c9b1-4865-bbb2-2aa26bfe8978",
   "metadata": {},
   "outputs": [
    {
     "ename": "error",
     "evalue": "OpenCV(4.10.0) D:\\a\\opencv-python\\opencv-python\\opencv\\modules\\highgui\\src\\window_w32.cpp:1261: error: (-27:Null pointer) NULL window: 'Image' in function 'cvDestroyWindow'\n",
     "output_type": "error",
     "traceback": [
      "\u001b[1;31m---------------------------------------------------------------------------\u001b[0m",
      "\u001b[1;31merror\u001b[0m                                     Traceback (most recent call last)",
      "Cell \u001b[1;32mIn[32], line 3\u001b[0m\n\u001b[0;32m      1\u001b[0m \u001b[38;5;66;03m# Vẽ hình chữ nhật\u001b[39;00m\n\u001b[0;32m      2\u001b[0m cv2\u001b[38;5;241m.\u001b[39mrectangle(img, (\u001b[38;5;241m100\u001b[39m,\u001b[38;5;241m100\u001b[39m),(\u001b[38;5;241m300\u001b[39m,\u001b[38;5;241m300\u001b[39m), (\u001b[38;5;241m0\u001b[39m, \u001b[38;5;241m0\u001b[39m, \u001b[38;5;241m255\u001b[39m), \u001b[38;5;241m-\u001b[39m\u001b[38;5;241m1\u001b[39m)\n\u001b[1;32m----> 3\u001b[0m display(\u001b[38;5;124m'\u001b[39m\u001b[38;5;124mImage\u001b[39m\u001b[38;5;124m'\u001b[39m, img)\n",
      "Cell \u001b[1;32mIn[24], line 4\u001b[0m, in \u001b[0;36mdisplay\u001b[1;34m(title, img)\u001b[0m\n\u001b[0;32m      2\u001b[0m cv2\u001b[38;5;241m.\u001b[39mimshow(title, img)\n\u001b[0;32m      3\u001b[0m cv2\u001b[38;5;241m.\u001b[39mwaitKey(\u001b[38;5;241m0\u001b[39m)\n\u001b[1;32m----> 4\u001b[0m cv2\u001b[38;5;241m.\u001b[39mdestroyWindow(title)\n",
      "\u001b[1;31merror\u001b[0m: OpenCV(4.10.0) D:\\a\\opencv-python\\opencv-python\\opencv\\modules\\highgui\\src\\window_w32.cpp:1261: error: (-27:Null pointer) NULL window: 'Image' in function 'cvDestroyWindow'\n"
     ]
    }
   ],
   "source": [
    "# Vẽ hình chữ nhật\n",
    "cv2.rectangle(img, (100,100),(300,300), (0, 0, 255), -1)\n",
    "display('Image', img)"
   ]
  },
  {
   "cell_type": "code",
   "execution_count": null,
   "id": "713ef3d0-4371-49f7-81e7-e5bab7bfd194",
   "metadata": {},
   "outputs": [],
   "source": [
    "# Ghi text trên hình ảnh\n",
    "content = 'Dang Minh Vu'\n",
    "font = cv2.FONT_HERSHEY_SIMPLEX\n",
    "cv2.putText(img, content, (10, 380), font, 0.6, (255, 255, 255), 2)\n",
    "display('Image', img)"
   ]
  },
  {
   "cell_type": "code",
   "execution_count": null,
   "id": "ab0640e6-9f17-4e6e-9292-418638d5ea2a",
   "metadata": {},
   "outputs": [],
   "source": []
  }
 ],
 "metadata": {
  "kernelspec": {
   "display_name": "Python 3 (ipykernel)",
   "language": "python",
   "name": "python3"
  },
  "language_info": {
   "codemirror_mode": {
    "name": "ipython",
    "version": 3
   },
   "file_extension": ".py",
   "mimetype": "text/x-python",
   "name": "python",
   "nbconvert_exporter": "python",
   "pygments_lexer": "ipython3",
   "version": "3.12.4"
  }
 },
 "nbformat": 4,
 "nbformat_minor": 5
}
